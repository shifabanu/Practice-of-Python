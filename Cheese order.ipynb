{
  "cells": [
    {
      "metadata": {
        "trusted": true
      },
      "cell_type": "code",
      "source": "def price(n):\n    msg = print(\"Please wait until your price according to the entered weight is calculated!\")\n    per = 7.45\n    amt = print(\"The price of\", n, \"grams of cheese is\", \"$\",n*per)\n    return amt",
      "execution_count": 1,
      "outputs": []
    },
    {
      "metadata": {
        "trusted": true
      },
      "cell_type": "code",
      "source": "print(\"Hello! Welcome to the cheese shop:\")",
      "execution_count": 2,
      "outputs": [
        {
          "output_type": "stream",
          "text": "Hello! Welcome to the cheese shop:\n",
          "name": "stdout"
        }
      ]
    },
    {
      "metadata": {
        "trusted": true
      },
      "cell_type": "code",
      "source": "print(\"You can order cheese by weight between 1 gram to 100 grams\")",
      "execution_count": 3,
      "outputs": [
        {
          "output_type": "stream",
          "text": "You can order cheese by weight between 1 gram to 100 grams\n",
          "name": "stdout"
        }
      ]
    },
    {
      "metadata": {
        "trusted": true
      },
      "cell_type": "code",
      "source": "weight = input(\"How much cheese do you want: \")",
      "execution_count": 9,
      "outputs": [
        {
          "output_type": "stream",
          "name": "stdout",
          "text": "How much cheese do you want: 27.12\n"
        }
      ]
    },
    {
      "metadata": {
        "trusted": true
      },
      "cell_type": "code",
      "source": "wrong = float(weight)\nif wrong<1:\n    \n    print(wrong, \"grams is below the minimum order. Please try with a greater value.\")\n    \nelif wrong >100:\n    \n    print(wrong, \"grams is above the maximum order. Please try with a lower value.\" )\n    \nelse:\n    correct = float(weight)\n    price(correct)\n    \n    ",
      "execution_count": 10,
      "outputs": [
        {
          "output_type": "stream",
          "text": "Please wait until your price according to the entered weight is calculated!\nThe price of 27.12 grams of cheese is $ 202.044\n",
          "name": "stdout"
        }
      ]
    },
    {
      "metadata": {
        "trusted": true
      },
      "cell_type": "code",
      "source": "",
      "execution_count": null,
      "outputs": []
    },
    {
      "metadata": {
        "trusted": true
      },
      "cell_type": "code",
      "source": "",
      "execution_count": null,
      "outputs": []
    }
  ],
  "metadata": {
    "kernelspec": {
      "name": "python36",
      "display_name": "Python 3.6",
      "language": "python"
    },
    "language_info": {
      "mimetype": "text/x-python",
      "nbconvert_exporter": "python",
      "name": "python",
      "pygments_lexer": "ipython3",
      "version": "3.6.6",
      "file_extension": ".py",
      "codemirror_mode": {
        "version": 3,
        "name": "ipython"
      }
    }
  },
  "nbformat": 4,
  "nbformat_minor": 2
}