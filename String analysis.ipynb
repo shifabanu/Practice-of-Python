{
  "cells": [
    {
      "metadata": {
        "trusted": true
      },
      "cell_type": "code",
      "source": "def str_test(x):\n    y=\"\"\n    if x.isalpha() == True:\n        y = print(\"\\\"\",x.title(),\"\\\"\",\"is all alphabetical characters\")\n        \n    elif x.isdigit() == True:\n        x = int(x)\n        if x < 99:\n            y = print(x, \" is a smaller number than expected.\")\n        else:\n            y= print(x, \" is a pretty big number.\")\n    return y\n        ",
      "execution_count": 11,
      "outputs": []
    },
    {
      "metadata": {
        "trusted": true
      },
      "cell_type": "code",
      "source": "string =\"\"\n\nwhile string == \"\":\n    string = input(\"Enter a word or an integer: \")\n    if string != \"\":\n        break\n        \nstr_test(string)\n    ",
      "execution_count": 12,
      "outputs": [
        {
          "output_type": "stream",
          "name": "stdout",
          "text": "Enter a word or an integer: \nEnter a word or an integer: \nEnter a word or an integer: \nEnter a word or an integer: \nEnter a word or an integer: 100\n100  is a pretty big number.\n"
        }
      ]
    },
    {
      "metadata": {
        "trusted": true
      },
      "cell_type": "code",
      "source": "\n",
      "execution_count": null,
      "outputs": []
    }
  ],
  "metadata": {
    "kernelspec": {
      "name": "python36",
      "display_name": "Python 3.6",
      "language": "python"
    },
    "language_info": {
      "mimetype": "text/x-python",
      "nbconvert_exporter": "python",
      "name": "python",
      "pygments_lexer": "ipython3",
      "version": "3.6.6",
      "file_extension": ".py",
      "codemirror_mode": {
        "version": 3,
        "name": "ipython"
      }
    }
  },
  "nbformat": 4,
  "nbformat_minor": 2
}