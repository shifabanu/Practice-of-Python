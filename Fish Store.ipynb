{
  "cells": [
    {
      "metadata": {
        "collapsed": true
      },
      "cell_type": "markdown",
      "source": "fishstore() takes 2 string arguments: fish & price\n\nfishstore returns a string in sentence form\n\ngather input for fish_entry and price_entry to use in calling fishstore()\n\nprint the return value of fishstore()\n\nexample of output: Fish Type: Guppy costs $1\n\n# [ ] create, call and test fishstore() function \n"
    },
    {
      "metadata": {
        "trusted": true
      },
      "cell_type": "code",
      "source": "def fish_store(fish_entry,price):\n    output = print(\"Fish type:\",fish_entry,\"costs\", \"$\",price)\n    return output",
      "execution_count": 6,
      "outputs": []
    },
    {
      "metadata": {
        "trusted": true
      },
      "cell_type": "code",
      "source": "print(\"Welcome to the Fish Store!\")",
      "execution_count": 2,
      "outputs": [
        {
          "output_type": "stream",
          "text": "Welcome to the Fish Store!\n",
          "name": "stdout"
        }
      ]
    },
    {
      "metadata": {
        "trusted": true
      },
      "cell_type": "code",
      "source": "fish_entry = input (\"Enter the name of the fish: \")\nprice = input (\"Enter the price of the fish WITHOUT ANY SYMBOL: \")",
      "execution_count": 3,
      "outputs": [
        {
          "output_type": "stream",
          "name": "stdout",
          "text": "Enter the name of the fish: Tuna\nEnter the price of the fish WITHOUT ANY SYMBOL: 10\n"
        }
      ]
    },
    {
      "metadata": {
        "trusted": true
      },
      "cell_type": "code",
      "source": "result= fish_store(fish_entry, price)\n",
      "execution_count": 7,
      "outputs": [
        {
          "output_type": "stream",
          "text": "Fish type: Tuna costs $ 10\n",
          "name": "stdout"
        }
      ]
    },
    {
      "metadata": {
        "trusted": true
      },
      "cell_type": "code",
      "source": "",
      "execution_count": null,
      "outputs": []
    }
  ],
  "metadata": {
    "kernelspec": {
      "name": "python36",
      "display_name": "Python 3.6",
      "language": "python"
    },
    "language_info": {
      "mimetype": "text/x-python",
      "nbconvert_exporter": "python",
      "name": "python",
      "pygments_lexer": "ipython3",
      "version": "3.6.6",
      "file_extension": ".py",
      "codemirror_mode": {
        "version": 3,
        "name": "ipython"
      }
    }
  },
  "nbformat": 4,
  "nbformat_minor": 2
}