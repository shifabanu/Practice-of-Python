{
  "cells": [
    {
      "metadata": {
        "trusted": true
      },
      "cell_type": "code",
      "source": "print(\"Welcome to the  calculator\")",
      "execution_count": 1,
      "outputs": [
        {
          "output_type": "stream",
          "text": "Welcome to the  calculator\n",
          "name": "stdout"
        }
      ]
    },
    {
      "metadata": {
        "trusted": true
      },
      "cell_type": "code",
      "source": "n1 =int(input(\"Enter first number: \"))\nn2 = int(input(\"Enter second number: \"))",
      "execution_count": 2,
      "outputs": [
        {
          "output_type": "stream",
          "name": "stdout",
          "text": "Enter first number: 72\nEnter second number: 21\n"
        }
      ]
    },
    {
      "metadata": {
        "trusted": true
      },
      "cell_type": "code",
      "source": "# Multiply\nprint(\"The multiplication is: \")\nn1*n2",
      "execution_count": 3,
      "outputs": [
        {
          "output_type": "stream",
          "text": "The multiplication is: \n",
          "name": "stdout"
        },
        {
          "output_type": "execute_result",
          "execution_count": 3,
          "data": {
            "text/plain": "1512"
          },
          "metadata": {}
        }
      ]
    },
    {
      "metadata": {
        "trusted": true
      },
      "cell_type": "code",
      "source": "print(\"The average is: \")\nn1+n2/2",
      "execution_count": 4,
      "outputs": [
        {
          "output_type": "stream",
          "text": "The average is: \n",
          "name": "stdout"
        },
        {
          "output_type": "execute_result",
          "execution_count": 4,
          "data": {
            "text/plain": "82.5"
          },
          "metadata": {}
        }
      ]
    },
    {
      "metadata": {
        "trusted": true
      },
      "cell_type": "code",
      "source": "print(\"The subtraction is: \")\nif n1>=n2:\n    print(n1-n2)\nelse:\n    print(n2-n1)",
      "execution_count": 5,
      "outputs": [
        {
          "output_type": "stream",
          "text": "The subtraction is: \n51\n",
          "name": "stdout"
        }
      ]
    },
    {
      "metadata": {
        "trusted": true
      },
      "cell_type": "code",
      "source": "print(\"The integer part of the divison is: \")\n\nif n1 != 0 and n1>n2:\n    print(int(n2/n1))\nelif n2 != 0 and n2>n1:\n    print(int(n1/n2))\nelif n1 or n2 == 0:\n    print(\"Please enter non zero numbers!\")\nelse:\n    pass",
      "execution_count": 6,
      "outputs": [
        {
          "output_type": "stream",
          "text": "The integer part of the divison is: \n0\n",
          "name": "stdout"
        }
      ]
    },
    {
      "metadata": {
        "trusted": true
      },
      "cell_type": "code",
      "source": "",
      "execution_count": null,
      "outputs": []
    }
  ],
  "metadata": {
    "kernelspec": {
      "name": "python36",
      "display_name": "Python 3.6",
      "language": "python"
    },
    "language_info": {
      "mimetype": "text/x-python",
      "nbconvert_exporter": "python",
      "name": "python",
      "pygments_lexer": "ipython3",
      "version": "3.6.6",
      "file_extension": ".py",
      "codemirror_mode": {
        "version": 3,
        "name": "ipython"
      }
    }
  },
  "nbformat": 4,
  "nbformat_minor": 2
}