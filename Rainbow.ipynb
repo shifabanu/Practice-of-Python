{
  "cells": [
    {
      "metadata": {
        "trusted": true
      },
      "cell_type": "code",
      "source": "",
      "execution_count": null,
      "outputs": []
    },
    {
      "metadata": {
        "trusted": true
      },
      "cell_type": "code",
      "source": "color = input(\"Enter any alphabet from the colors in rainbow(ROYGBIV): \" ).capitalize()",
      "execution_count": 2,
      "outputs": [
        {
          "output_type": "stream",
          "name": "stdout",
          "text": "Enter any alphabet from the colors in rainbow(ROYGBIV): g\n"
        }
      ]
    },
    {
      "metadata": {
        "trusted": true,
        "scrolled": true
      },
      "cell_type": "code",
      "source": "def rainbow(color):\n    color = color.capitalize()\n    if color == \"R\":\n        match = print(color, \"for Red\")\n    elif color == \"O\":\n        match= print(color, \"for Orange\")\n    elif color == \"Y\":\n        match= print(color, \"for Yello\")\n    elif color == \"G\":\n        match= print(color, \"for Green\")\n    elif color == \"B\":\n        match= print(color, \"for Blue\")\n    elif color == \"I\":\n        match= print(color, \"for Indigo\")\n    elif color == \"V\":\n        match= print(color, \"for Violet\")\n    else:\n        match= print(\"No match\")\n    \n    return match\n    ",
      "execution_count": 1,
      "outputs": []
    },
    {
      "metadata": {
        "trusted": true
      },
      "cell_type": "code",
      "source": "rainbow(color)",
      "execution_count": 3,
      "outputs": [
        {
          "output_type": "stream",
          "text": "G for Green\n",
          "name": "stdout"
        }
      ]
    },
    {
      "metadata": {
        "trusted": true
      },
      "cell_type": "code",
      "source": "",
      "execution_count": null,
      "outputs": []
    },
    {
      "metadata": {
        "trusted": true
      },
      "cell_type": "code",
      "source": "",
      "execution_count": null,
      "outputs": []
    },
    {
      "metadata": {
        "trusted": true
      },
      "cell_type": "code",
      "source": "",
      "execution_count": null,
      "outputs": []
    }
  ],
  "metadata": {
    "kernelspec": {
      "name": "python36",
      "display_name": "Python 3.6",
      "language": "python"
    },
    "language_info": {
      "mimetype": "text/x-python",
      "nbconvert_exporter": "python",
      "name": "python",
      "pygments_lexer": "ipython3",
      "version": "3.6.6",
      "file_extension": ".py",
      "codemirror_mode": {
        "version": 3,
        "name": "ipython"
      }
    }
  },
  "nbformat": 4,
  "nbformat_minor": 2
}