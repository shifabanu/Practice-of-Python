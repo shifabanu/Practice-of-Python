{
  "cells": [
    {
      "metadata": {
        "trusted": true
      },
      "cell_type": "code",
      "source": "def rainbow_or_age(input_):\n    if input_.isalpha() == True:\n        print(\"It is an alphabet\")\n        final= rainbow(input_)\n    elif input_.isdigit() == True:\n        final= age_20(input_)\n    return final",
      "execution_count": 1,
      "outputs": []
    },
    {
      "metadata": {
        "trusted": true
      },
      "cell_type": "code",
      "source": "def rainbow(color):\n    color = color.capitalize()\n    if color == \"R\":\n        match = print(color, \"for Red\")\n    elif color == \"O\":\n        match= print(color, \"for Orange\")\n    elif color == \"Y\":\n        match= print(color, \"for Yello\")\n    elif color == \"G\":\n        match= print(color, \"for Green\")\n    elif color == \"B\":\n        match= print(color, \"for Blue\")\n    elif color == \"I\":\n        match= print(color, \"for Indigo\")\n    elif color == \"V\":\n        match= print(color, \"for Violet\")\n    else:\n        match= print(\"No match\")\n    \n    return match",
      "execution_count": 2,
      "outputs": []
    },
    {
      "metadata": {
        "trusted": true
      },
      "cell_type": "code",
      "source": "def age_20(number):\n    number = int(number)\n    if number >= 20:\n        n = number-20\n        msg = print(n, \"years old. 20 years difference from now. \")\n        return msg\n    else:\n        n = number+20\n        msg = print(\"Will be\", n, \"years old. 20 years difference from now. \")\n        return msg",
      "execution_count": 3,
      "outputs": []
    },
    {
      "metadata": {
        "trusted": true
      },
      "cell_type": "code",
      "source": "input_ = input(\"Enter a VIBGYOR alphabet or a digit here: \")\nrainbow_or_age(input_)",
      "execution_count": 5,
      "outputs": [
        {
          "output_type": "stream",
          "name": "stdout",
          "text": "Enter a VIBGYOR alphabet or a digit here: 34\n14 years old. 20 years difference from now. \n"
        }
      ]
    },
    {
      "metadata": {
        "trusted": true
      },
      "cell_type": "code",
      "source": "",
      "execution_count": null,
      "outputs": []
    }
  ],
  "metadata": {
    "kernelspec": {
      "name": "python36",
      "display_name": "Python 3.6",
      "language": "python"
    },
    "language_info": {
      "mimetype": "text/x-python",
      "nbconvert_exporter": "python",
      "name": "python",
      "pygments_lexer": "ipython3",
      "version": "3.6.6",
      "file_extension": ".py",
      "codemirror_mode": {
        "version": 3,
        "name": "ipython"
      }
    }
  },
  "nbformat": 4,
  "nbformat_minor": 2
}