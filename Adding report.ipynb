{
  "cells": [
    {
      "metadata": {
        "trusted": true
      },
      "cell_type": "code",
      "source": "def adding_report(report):\n    items = \"\"\n    total = int(0)\n    \n    while True:\n        x = input(\"Enter an INTEGER or \\\"Q\\\" to Quit: \")\n        if x.isdigit() == True:\n            if report.capitalize() ==\"A\":\n                items = items + \"\\n\" + x\n                y = int(x)\n                total = y + total\n            else:\n                y = int(x)\n                total = y + total\n                \n        elif x.lower()== \"q\":\n            print(\"You agreed on quiting\")\n            if report.capitalize() ==\"A\":\n                    print(\"The integers are: \", items)\n                    print(\"The sum is: \", total)\n                    break\n            elif report.capitalize() ==\"T\":\n                    print(\"The sum is: \", total)\n                    break\n        else:\n            print(\"Invalid input\")\n                   \n            \n        ",
      "execution_count": 1,
      "outputs": []
    },
    {
      "metadata": {
        "trusted": true
      },
      "cell_type": "code",
      "source": "report= input(\"A or T? : \")\nif report.capitalize() != \"A\":\n    report = \"T\"\nadding_report(report)",
      "execution_count": 3,
      "outputs": [
        {
          "output_type": "stream",
          "name": "stdout",
          "text": "A or T? : a\nEnter an INTEGER or \"Q\" to Quit: 05\nEnter an INTEGER or \"Q\" to Quit: \nInvalid input\nEnter an INTEGER or \"Q\" to Quit: 3\nEnter an INTEGER or \"Q\" to Quit: 4\nEnter an INTEGER or \"Q\" to Quit: 6\nEnter an INTEGER or \"Q\" to Quit: 1\nEnter an INTEGER or \"Q\" to Quit: 7\nEnter an INTEGER or \"Q\" to Quit: q\nYou agreed on quiting\nThe integers are:  \n05\n3\n4\n6\n1\n7\nThe sum is:  26\n"
        }
      ]
    },
    {
      "metadata": {
        "trusted": true
      },
      "cell_type": "code",
      "source": "",
      "execution_count": null,
      "outputs": []
    },
    {
      "metadata": {
        "trusted": true
      },
      "cell_type": "code",
      "source": "",
      "execution_count": null,
      "outputs": []
    }
  ],
  "metadata": {
    "kernelspec": {
      "name": "python36",
      "display_name": "Python 3.6",
      "language": "python"
    },
    "language_info": {
      "mimetype": "text/x-python",
      "nbconvert_exporter": "python",
      "name": "python",
      "pygments_lexer": "ipython3",
      "version": "3.6.6",
      "file_extension": ".py",
      "codemirror_mode": {
        "version": 3,
        "name": "ipython"
      }
    }
  },
  "nbformat": 4,
  "nbformat_minor": 2
}